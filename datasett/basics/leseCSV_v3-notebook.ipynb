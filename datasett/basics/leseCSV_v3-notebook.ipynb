{
 "cells": [
  {
   "cell_type": "code",
   "execution_count": 8,
   "metadata": {},
   "outputs": [
    {
     "name": "stdout",
     "output_type": "stream",
     "text": [
      "                År    Befolkning\n",
      "count    73.000000     73.000000\n",
      "mean   1987.000000  14859.328767\n",
      "std      21.217131    455.416356\n",
      "min    1951.000000  13792.000000\n",
      "25%    1969.000000  14726.000000\n",
      "50%    1987.000000  14858.000000\n",
      "75%    2005.000000  15108.000000\n",
      "max    2023.000000  16144.000000\n",
      "Gjennomsnittsbefolkning: 14859.328767123288\n"
     ]
    }
   ],
   "source": [
    "import pandas as pd\n",
    "import matplotlib.pyplot as plt\n",
    "\n",
    "filnavn = \"befolkning-voss.csv\"\n",
    "\n",
    "# Les inn CSV-fila med pandas\n",
    "data = pd.read_csv(filnavn, delimiter=\";\", encoding=\"utf-8-sig\")\n",
    "\n",
    "# Få statistikk om datasettet\n",
    "print(data.describe())\n",
    "\n",
    "# Få gjennomsnittsbefolkningen\n",
    "print(\"Gjennomsnittsbefolkning:\", data['Befolkning'].mean())"
   ]
  }
 ],
 "metadata": {
  "kernelspec": {
   "display_name": "Python 3",
   "language": "python",
   "name": "python3"
  },
  "language_info": {
   "codemirror_mode": {
    "name": "ipython",
    "version": 3
   },
   "file_extension": ".py",
   "mimetype": "text/x-python",
   "name": "python",
   "nbconvert_exporter": "python",
   "pygments_lexer": "ipython3",
   "version": "3.12.0"
  }
 },
 "nbformat": 4,
 "nbformat_minor": 2
}
